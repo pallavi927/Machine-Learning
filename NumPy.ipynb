{
  "nbformat": 4,
  "nbformat_minor": 0,
  "metadata": {
    "colab": {
      "name": "NumPy.ipynb",
      "provenance": [],
      "collapsed_sections": []
    },
    "kernelspec": {
      "name": "python3",
      "display_name": "Python 3"
    }
  },
  "cells": [
    {
      "cell_type": "markdown",
      "metadata": {
        "id": "k__lgmIS_GnP",
        "colab_type": "text"
      },
      "source": [
        "#NumPy"
      ]
    },
    {
      "cell_type": "markdown",
      "metadata": {
        "id": "wzNXHvrg_SGO",
        "colab_type": "text"
      },
      "source": [
        "NumPy is one of the python library"
      ]
    },
    {
      "cell_type": "markdown",
      "metadata": {
        "id": "_2wCFlbD6Y1v",
        "colab_type": "text"
      },
      "source": [
        "**Array**\n"
      ]
    },
    {
      "cell_type": "markdown",
      "metadata": {
        "id": "JWdxlpG26gsv",
        "colab_type": "text"
      },
      "source": [
        "An array is a data structure that stores values of same data type. In Python, this is the main difference between arrays and lists. While python lists can contain values corresponding to different data types, arrays in python can only contain values corresponding to same data type"
      ]
    },
    {
      "cell_type": "code",
      "metadata": {
        "id": "6KqAZRCd_Ny3",
        "colab_type": "code",
        "colab": {}
      },
      "source": [
        "import numpy as np"
      ],
      "execution_count": 0,
      "outputs": []
    },
    {
      "cell_type": "code",
      "metadata": {
        "id": "iMV_Y9Az_grx",
        "colab_type": "code",
        "outputId": "8404f6dd-9580-4096-d36d-6e0ce6aacb8e",
        "colab": {
          "base_uri": "https://localhost:8080/",
          "height": 34
        }
      },
      "source": [
        "x=np.array([1,2,3])\n",
        "print(x)"
      ],
      "execution_count": 0,
      "outputs": [
        {
          "output_type": "stream",
          "text": [
            "[1 2 3]\n"
          ],
          "name": "stdout"
        }
      ]
    },
    {
      "cell_type": "code",
      "metadata": {
        "id": "kPqDLNTYAgI-",
        "colab_type": "code",
        "outputId": "2638d13b-dd9d-45ab-c6a8-fab990e59706",
        "colab": {
          "base_uri": "https://localhost:8080/",
          "height": 34
        }
      },
      "source": [
        "type(x)"
      ],
      "execution_count": 0,
      "outputs": [
        {
          "output_type": "execute_result",
          "data": {
            "text/plain": [
              "numpy.ndarray"
            ]
          },
          "metadata": {
            "tags": []
          },
          "execution_count": 9
        }
      ]
    },
    {
      "cell_type": "code",
      "metadata": {
        "id": "gImFcffeAjuV",
        "colab_type": "code",
        "outputId": "cd9cba7d-1bbc-4746-b226-40aea293616c",
        "colab": {
          "base_uri": "https://localhost:8080/",
          "height": 34
        }
      },
      "source": [
        "l=[4,5,6]\n",
        "x=np.asarray(l)\n",
        "type(x)"
      ],
      "execution_count": 0,
      "outputs": [
        {
          "output_type": "execute_result",
          "data": {
            "text/plain": [
              "numpy.ndarray"
            ]
          },
          "metadata": {
            "tags": []
          },
          "execution_count": 15
        }
      ]
    },
    {
      "cell_type": "code",
      "metadata": {
        "id": "IVJXatV3BHgv",
        "colab_type": "code",
        "outputId": "0fb39321-5d76-4adb-914d-b297948ea178",
        "colab": {
          "base_uri": "https://localhost:8080/",
          "height": 34
        }
      },
      "source": [
        "print(x)"
      ],
      "execution_count": 0,
      "outputs": [
        {
          "output_type": "stream",
          "text": [
            "[4 5 6]\n"
          ],
          "name": "stdout"
        }
      ]
    },
    {
      "cell_type": "code",
      "metadata": {
        "id": "2TYx4INHBiz0",
        "colab_type": "code",
        "outputId": "22f6d602-21a1-4938-8734-2baebc835351",
        "colab": {
          "base_uri": "https://localhost:8080/",
          "height": 34
        }
      },
      "source": [
        "x=np.asarray(l,float)\n",
        "print(x)"
      ],
      "execution_count": 0,
      "outputs": [
        {
          "output_type": "stream",
          "text": [
            "[4. 5. 6.]\n"
          ],
          "name": "stdout"
        }
      ]
    },
    {
      "cell_type": "code",
      "metadata": {
        "id": "P1qkkNrQB7xl",
        "colab_type": "code",
        "outputId": "9680fe05-f538-4c0e-dc14-1dc297c96d7b",
        "colab": {
          "base_uri": "https://localhost:8080/",
          "height": 34
        }
      },
      "source": [
        "x.shape"
      ],
      "execution_count": 0,
      "outputs": [
        {
          "output_type": "execute_result",
          "data": {
            "text/plain": [
              "(3,)"
            ]
          },
          "metadata": {
            "tags": []
          },
          "execution_count": 19
        }
      ]
    },
    {
      "cell_type": "code",
      "metadata": {
        "id": "SCROKR3J_o4A",
        "colab_type": "code",
        "outputId": "d7e4eeee-cd0f-4860-ba1e-8a593f69d1e8",
        "colab": {
          "base_uri": "https://localhost:8080/",
          "height": 50
        }
      },
      "source": [
        "x=np.array([[1,2,3],[4,5,6]])\n",
        "print(x)"
      ],
      "execution_count": 0,
      "outputs": [
        {
          "output_type": "stream",
          "text": [
            "[[1 2 3]\n",
            " [4 5 6]]\n"
          ],
          "name": "stdout"
        }
      ]
    },
    {
      "cell_type": "code",
      "metadata": {
        "id": "e4NK_lyRCgsr",
        "colab_type": "code",
        "outputId": "c17de7a9-a1a8-4177-f7fc-816df7e227e7",
        "colab": {
          "base_uri": "https://localhost:8080/",
          "height": 34
        }
      },
      "source": [
        "x.shape"
      ],
      "execution_count": 0,
      "outputs": [
        {
          "output_type": "execute_result",
          "data": {
            "text/plain": [
              "(2, 3)"
            ]
          },
          "metadata": {
            "tags": []
          },
          "execution_count": 23
        }
      ]
    },
    {
      "cell_type": "code",
      "metadata": {
        "id": "SvuLDGRxCkwI",
        "colab_type": "code",
        "outputId": "74020665-8453-4d2a-bf82-15c5b0341b3e",
        "colab": {
          "base_uri": "https://localhost:8080/",
          "height": 34
        }
      },
      "source": [
        "x[0,2]"
      ],
      "execution_count": 0,
      "outputs": [
        {
          "output_type": "execute_result",
          "data": {
            "text/plain": [
              "3"
            ]
          },
          "metadata": {
            "tags": []
          },
          "execution_count": 24
        }
      ]
    },
    {
      "cell_type": "code",
      "metadata": {
        "id": "WIsa-BnECq-v",
        "colab_type": "code",
        "outputId": "78cf1e92-2515-4a97-d857-04013ba276b5",
        "colab": {
          "base_uri": "https://localhost:8080/",
          "height": 34
        }
      },
      "source": [
        "x[0,:]"
      ],
      "execution_count": 0,
      "outputs": [
        {
          "output_type": "execute_result",
          "data": {
            "text/plain": [
              "array([1, 2, 3])"
            ]
          },
          "metadata": {
            "tags": []
          },
          "execution_count": 25
        }
      ]
    },
    {
      "cell_type": "code",
      "metadata": {
        "id": "yQB6ZFC6CwMa",
        "colab_type": "code",
        "outputId": "029d8060-7024-4f74-8833-9ef4c261a5c9",
        "colab": {
          "base_uri": "https://localhost:8080/",
          "height": 67
        }
      },
      "source": [
        "y=np.array([[1,4,7],[2,5,8],[3,6,9]])\n",
        "print(y)"
      ],
      "execution_count": 0,
      "outputs": [
        {
          "output_type": "stream",
          "text": [
            "[[1 4 7]\n",
            " [2 5 8]\n",
            " [3 6 9]]\n"
          ],
          "name": "stdout"
        }
      ]
    },
    {
      "cell_type": "code",
      "metadata": {
        "id": "oJxDrpr0DM1_",
        "colab_type": "code",
        "outputId": "d661343e-7776-4c8b-cc02-034d63982102",
        "colab": {
          "base_uri": "https://localhost:8080/",
          "height": 34
        }
      },
      "source": [
        "y.shape"
      ],
      "execution_count": 0,
      "outputs": [
        {
          "output_type": "execute_result",
          "data": {
            "text/plain": [
              "(3, 3)"
            ]
          },
          "metadata": {
            "tags": []
          },
          "execution_count": 30
        }
      ]
    },
    {
      "cell_type": "code",
      "metadata": {
        "id": "GpwVlAUlDk_W",
        "colab_type": "code",
        "outputId": "4c5bd002-ea84-459f-ce4c-fd4761f23ffc",
        "colab": {
          "base_uri": "https://localhost:8080/",
          "height": 84
        }
      },
      "source": [
        "x=np.zeros((4,5))\n",
        "print(x)"
      ],
      "execution_count": 0,
      "outputs": [
        {
          "output_type": "stream",
          "text": [
            "[[0. 0. 0. 0. 0.]\n",
            " [0. 0. 0. 0. 0.]\n",
            " [0. 0. 0. 0. 0.]\n",
            " [0. 0. 0. 0. 0.]]\n"
          ],
          "name": "stdout"
        }
      ]
    },
    {
      "cell_type": "code",
      "metadata": {
        "id": "ipBQHd_jDvwD",
        "colab_type": "code",
        "colab": {}
      },
      "source": [
        "x=np.eye(3,3)"
      ],
      "execution_count": 0,
      "outputs": []
    },
    {
      "cell_type": "code",
      "metadata": {
        "id": "6gmGl55PEud4",
        "colab_type": "code",
        "outputId": "5902075a-17b4-42eb-f016-a9fab17c9627",
        "colab": {
          "base_uri": "https://localhost:8080/",
          "height": 67
        }
      },
      "source": [
        "print(x)"
      ],
      "execution_count": 0,
      "outputs": [
        {
          "output_type": "stream",
          "text": [
            "[[1. 0. 0.]\n",
            " [0. 1. 0.]\n",
            " [0. 0. 1.]]\n"
          ],
          "name": "stdout"
        }
      ]
    },
    {
      "cell_type": "code",
      "metadata": {
        "id": "TZRjYeNxE5SE",
        "colab_type": "code",
        "colab": {}
      },
      "source": [
        "x=np.random.random((3,3))"
      ],
      "execution_count": 0,
      "outputs": []
    },
    {
      "cell_type": "code",
      "metadata": {
        "id": "iceFAlNVFRhb",
        "colab_type": "code",
        "outputId": "ea2f0460-7e4a-4b10-c116-4950eaa24c92",
        "colab": {
          "base_uri": "https://localhost:8080/",
          "height": 67
        }
      },
      "source": [
        "print(x)"
      ],
      "execution_count": 0,
      "outputs": [
        {
          "output_type": "stream",
          "text": [
            "[[0.49857839 0.4092445  0.56372825]\n",
            " [0.25019019 0.60392014 0.19257479]\n",
            " [0.32315285 0.31211709 0.74439531]]\n"
          ],
          "name": "stdout"
        }
      ]
    },
    {
      "cell_type": "code",
      "metadata": {
        "id": "haOjtSOxFbuz",
        "colab_type": "code",
        "colab": {}
      },
      "source": [
        "z=x.T"
      ],
      "execution_count": 0,
      "outputs": []
    },
    {
      "cell_type": "code",
      "metadata": {
        "id": "ZcSUMddjFkec",
        "colab_type": "code",
        "outputId": "a9c84017-bb8e-4e49-a8d8-a8b5b8b167cc",
        "colab": {
          "base_uri": "https://localhost:8080/",
          "height": 67
        }
      },
      "source": [
        "print(z)"
      ],
      "execution_count": 0,
      "outputs": [
        {
          "output_type": "stream",
          "text": [
            "[[0.49857839 0.25019019 0.32315285]\n",
            " [0.4092445  0.60392014 0.31211709]\n",
            " [0.56372825 0.19257479 0.74439531]]\n"
          ],
          "name": "stdout"
        }
      ]
    },
    {
      "cell_type": "code",
      "metadata": {
        "id": "es1aJ7YDFqnT",
        "colab_type": "code",
        "colab": {}
      },
      "source": [
        "y=x.reshape(9,1)"
      ],
      "execution_count": 0,
      "outputs": []
    },
    {
      "cell_type": "code",
      "metadata": {
        "id": "LbOVmG3tGdE7",
        "colab_type": "code",
        "outputId": "602c0dfc-6b3d-44d0-aa6b-38f6746aa230",
        "colab": {
          "base_uri": "https://localhost:8080/",
          "height": 168
        }
      },
      "source": [
        "print(y)"
      ],
      "execution_count": 0,
      "outputs": [
        {
          "output_type": "stream",
          "text": [
            "[[0.49857839]\n",
            " [0.4092445 ]\n",
            " [0.56372825]\n",
            " [0.25019019]\n",
            " [0.60392014]\n",
            " [0.19257479]\n",
            " [0.32315285]\n",
            " [0.31211709]\n",
            " [0.74439531]]\n"
          ],
          "name": "stdout"
        }
      ]
    },
    {
      "cell_type": "code",
      "metadata": {
        "id": "aDmO8ubjGk6_",
        "colab_type": "code",
        "colab": {}
      },
      "source": [
        "A=np.arange(5)"
      ],
      "execution_count": 0,
      "outputs": []
    },
    {
      "cell_type": "code",
      "metadata": {
        "id": "2kjQxNgbGwcV",
        "colab_type": "code",
        "colab": {}
      },
      "source": [
        "B=np.arange(5)"
      ],
      "execution_count": 0,
      "outputs": []
    },
    {
      "cell_type": "code",
      "metadata": {
        "id": "3lzFeQKGG2q6",
        "colab_type": "code",
        "colab": {}
      },
      "source": [
        "C=A+B\n",
        "D=A-B\n",
        "E=A*B"
      ],
      "execution_count": 0,
      "outputs": []
    },
    {
      "cell_type": "code",
      "metadata": {
        "id": "8-NBhPumHFGC",
        "colab_type": "code",
        "outputId": "ca6936f3-3745-4b1a-b00a-f08a24626c17",
        "colab": {
          "base_uri": "https://localhost:8080/",
          "height": 34
        }
      },
      "source": [
        "print(C,D,E)"
      ],
      "execution_count": 0,
      "outputs": [
        {
          "output_type": "stream",
          "text": [
            "[0 2 4 6 8] [0 0 0 0 0] [ 0  1  4  9 16]\n"
          ],
          "name": "stdout"
        }
      ]
    },
    {
      "cell_type": "code",
      "metadata": {
        "id": "6tS_V0-_HQ2F",
        "colab_type": "code",
        "outputId": "fa5c74e0-bc0c-4298-9e62-1d1822954615",
        "colab": {
          "base_uri": "https://localhost:8080/",
          "height": 34
        }
      },
      "source": [
        "print(A,A+1)"
      ],
      "execution_count": 0,
      "outputs": [
        {
          "output_type": "stream",
          "text": [
            "[0 1 2 3 4] [1 2 3 4 5]\n"
          ],
          "name": "stdout"
        }
      ]
    },
    {
      "cell_type": "code",
      "metadata": {
        "id": "zSXWk5OvHjPe",
        "colab_type": "code",
        "outputId": "700af1df-323c-4f9a-eca5-ae10c2908c0c",
        "colab": {
          "base_uri": "https://localhost:8080/",
          "height": 84
        }
      },
      "source": [
        "A=np.random.random((2,3))                                                        #random float values                                                \n",
        "print(A)\n",
        "print(A+1)"
      ],
      "execution_count": 0,
      "outputs": [
        {
          "output_type": "stream",
          "text": [
            "[[0.57810177 0.2122424  0.95243273]\n",
            " [0.9326733  0.01032108 0.18012226]]\n",
            "[[1.57810177 1.2122424  1.95243273]\n",
            " [1.9326733  1.01032108 1.18012226]]\n"
          ],
          "name": "stdout"
        }
      ]
    },
    {
      "cell_type": "code",
      "metadata": {
        "id": "HVd-ot7iIIVZ",
        "colab_type": "code",
        "colab": {}
      },
      "source": [
        "A=np.floor(np.random.random((2,3))*10)"
      ],
      "execution_count": 0,
      "outputs": []
    },
    {
      "cell_type": "code",
      "metadata": {
        "id": "ChzcyL5NIX9q",
        "colab_type": "code",
        "outputId": "094d0af1-02ea-45e9-82ce-3ab47a8e38ca",
        "colab": {
          "base_uri": "https://localhost:8080/",
          "height": 50
        }
      },
      "source": [
        "print(A)"
      ],
      "execution_count": 0,
      "outputs": [
        {
          "output_type": "stream",
          "text": [
            "[[4. 6. 7.]\n",
            " [9. 1. 4.]]\n"
          ],
          "name": "stdout"
        }
      ]
    },
    {
      "cell_type": "code",
      "metadata": {
        "id": "j4JFn9uYIlF0",
        "colab_type": "code",
        "colab": {}
      },
      "source": [
        "U=[1,2,-1]\n",
        "V=[2,-1,3]"
      ],
      "execution_count": 0,
      "outputs": []
    },
    {
      "cell_type": "code",
      "metadata": {
        "id": "322CjN0yIteU",
        "colab_type": "code",
        "outputId": "657524ac-71ab-4cbb-9652-c25738a59cd4",
        "colab": {
          "base_uri": "https://localhost:8080/",
          "height": 34
        }
      },
      "source": [
        "p=np.inner(U,V)\n",
        "print(p)"
      ],
      "execution_count": 0,
      "outputs": [
        {
          "output_type": "stream",
          "text": [
            "-3\n"
          ],
          "name": "stdout"
        }
      ]
    },
    {
      "cell_type": "code",
      "metadata": {
        "id": "TEDkWTJ9JBJc",
        "colab_type": "code",
        "outputId": "3ee9470f-978f-4038-b1df-8710651040b9",
        "colab": {
          "base_uri": "https://localhost:8080/",
          "height": 67
        }
      },
      "source": [
        "P1=np.outer(U,V)\n",
        "print(P1)"
      ],
      "execution_count": 0,
      "outputs": [
        {
          "output_type": "stream",
          "text": [
            "[[ 2 -1  3]\n",
            " [ 4 -2  6]\n",
            " [-2  1 -3]]\n"
          ],
          "name": "stdout"
        }
      ]
    },
    {
      "cell_type": "code",
      "metadata": {
        "id": "FK1Wv16TJOfU",
        "colab_type": "code",
        "outputId": "83e9966f-8143-46aa-f7d9-c7663a36df5e",
        "colab": {
          "base_uri": "https://localhost:8080/",
          "height": 50
        }
      },
      "source": [
        "A=np.ones((2,3))\n",
        "B=np.ones((3,2))\n",
        "np.dot(A,B)"
      ],
      "execution_count": 0,
      "outputs": [
        {
          "output_type": "execute_result",
          "data": {
            "text/plain": [
              "array([[3., 3.],\n",
              "       [3., 3.]])"
            ]
          },
          "metadata": {
            "tags": []
          },
          "execution_count": 82
        }
      ]
    },
    {
      "cell_type": "code",
      "metadata": {
        "id": "o-JSht4IJvmE",
        "colab_type": "code",
        "outputId": "9eee994c-a5ef-4048-f610-a974873cf1bf",
        "colab": {
          "base_uri": "https://localhost:8080/",
          "height": 67
        }
      },
      "source": [
        "np.dot(A.T,B.T)"
      ],
      "execution_count": 0,
      "outputs": [
        {
          "output_type": "execute_result",
          "data": {
            "text/plain": [
              "array([[2., 2., 2.],\n",
              "       [2., 2., 2.],\n",
              "       [2., 2., 2.]])"
            ]
          },
          "metadata": {
            "tags": []
          },
          "execution_count": 83
        }
      ]
    },
    {
      "cell_type": "code",
      "metadata": {
        "id": "pvWXDBzUJ_wF",
        "colab_type": "code",
        "outputId": "5327bcca-69ee-4531-c008-d69f065c1e0a",
        "colab": {
          "base_uri": "https://localhost:8080/",
          "height": 50
        }
      },
      "source": [
        "A=np.ones((2,3))\n",
        "print(A)"
      ],
      "execution_count": 0,
      "outputs": [
        {
          "output_type": "stream",
          "text": [
            "[[1. 1. 1.]\n",
            " [1. 1. 1.]]\n"
          ],
          "name": "stdout"
        }
      ]
    },
    {
      "cell_type": "code",
      "metadata": {
        "id": "KJGEeAVvKKfe",
        "colab_type": "code",
        "outputId": "1aba3b6e-bdf7-478d-bd23-6fe99f73cbd0",
        "colab": {
          "base_uri": "https://localhost:8080/",
          "height": 34
        }
      },
      "source": [
        "A.sum()"
      ],
      "execution_count": 0,
      "outputs": [
        {
          "output_type": "execute_result",
          "data": {
            "text/plain": [
              "6.0"
            ]
          },
          "metadata": {
            "tags": []
          },
          "execution_count": 85
        }
      ]
    },
    {
      "cell_type": "code",
      "metadata": {
        "id": "gBXVBe2iKSSD",
        "colab_type": "code",
        "outputId": "496b115a-dc58-40f7-fabc-cd2956962850",
        "colab": {
          "base_uri": "https://localhost:8080/",
          "height": 34
        }
      },
      "source": [
        "A.sum(axis=1)"
      ],
      "execution_count": 0,
      "outputs": [
        {
          "output_type": "execute_result",
          "data": {
            "text/plain": [
              "array([3., 3.])"
            ]
          },
          "metadata": {
            "tags": []
          },
          "execution_count": 86
        }
      ]
    },
    {
      "cell_type": "code",
      "metadata": {
        "id": "K8y_fyp6KWYj",
        "colab_type": "code",
        "outputId": "b49fba59-3eef-4277-e9e2-79144b6f25f3",
        "colab": {
          "base_uri": "https://localhost:8080/",
          "height": 34
        }
      },
      "source": [
        "A.sum(axis=0)"
      ],
      "execution_count": 0,
      "outputs": [
        {
          "output_type": "execute_result",
          "data": {
            "text/plain": [
              "array([2., 2., 2.])"
            ]
          },
          "metadata": {
            "tags": []
          },
          "execution_count": 87
        }
      ]
    },
    {
      "cell_type": "code",
      "metadata": {
        "id": "NnZg0lgDKhsB",
        "colab_type": "code",
        "outputId": "e79df786-381f-4861-9706-c67b019e10ea",
        "colab": {
          "base_uri": "https://localhost:8080/",
          "height": 34
        }
      },
      "source": [
        "A.max()"
      ],
      "execution_count": 0,
      "outputs": [
        {
          "output_type": "execute_result",
          "data": {
            "text/plain": [
              "1.0"
            ]
          },
          "metadata": {
            "tags": []
          },
          "execution_count": 88
        }
      ]
    }
  ]
}