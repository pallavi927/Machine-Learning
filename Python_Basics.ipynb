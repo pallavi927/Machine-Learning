{
  "nbformat": 4,
  "nbformat_minor": 0,
  "metadata": {
    "colab": {
      "name": "Python-Basics.ipynb",
      "provenance": [],
      "collapsed_sections": []
    },
    "kernelspec": {
      "name": "python3",
      "display_name": "Python 3"
    }
  },
  "cells": [
    {
      "cell_type": "markdown",
      "metadata": {
        "id": "09ew_j_2A5Ah",
        "colab_type": "text"
      },
      "source": [
        "# Simple datatypes and Operation\n",
        "\n",
        "\n",
        "\n"
      ]
    },
    {
      "cell_type": "code",
      "metadata": {
        "id": "1sM8I4UIBnL1",
        "colab_type": "code",
        "colab": {}
      },
      "source": [
        "number=10"
      ],
      "execution_count": 0,
      "outputs": []
    },
    {
      "cell_type": "code",
      "metadata": {
        "id": "nfX52EaPB6mF",
        "colab_type": "code",
        "outputId": "02a0ed00-cb5c-43be-dda7-d0dc19bba4c2",
        "colab": {
          "base_uri": "https://localhost:8080/",
          "height": 34
        }
      },
      "source": [
        "type(number)\n"
      ],
      "execution_count": 0,
      "outputs": [
        {
          "output_type": "execute_result",
          "data": {
            "text/plain": [
              "int"
            ]
          },
          "metadata": {
            "tags": []
          },
          "execution_count": 36
        }
      ]
    },
    {
      "cell_type": "code",
      "metadata": {
        "id": "oTbLujwsF5n9",
        "colab_type": "code",
        "outputId": "70964c9f-28d4-440b-c1c7-d67bfb4814eb",
        "colab": {
          "base_uri": "https://localhost:8080/",
          "height": 34
        }
      },
      "source": [
        "print(number)"
      ],
      "execution_count": 0,
      "outputs": [
        {
          "output_type": "stream",
          "text": [
            "10\n"
          ],
          "name": "stdout"
        }
      ]
    },
    {
      "cell_type": "code",
      "metadata": {
        "id": "raqvlJUQCFV3",
        "colab_type": "code",
        "colab": {}
      },
      "source": [
        "st=\"Introduction to python\""
      ],
      "execution_count": 0,
      "outputs": []
    },
    {
      "cell_type": "code",
      "metadata": {
        "id": "cYCxPDxbGAJQ",
        "colab_type": "code",
        "outputId": "e8335a81-d0c1-4942-f83b-4c6d90b4f00d",
        "colab": {
          "base_uri": "https://localhost:8080/",
          "height": 34
        }
      },
      "source": [
        "print(st)"
      ],
      "execution_count": 0,
      "outputs": [
        {
          "output_type": "stream",
          "text": [
            "Introduction to python\n"
          ],
          "name": "stdout"
        }
      ]
    },
    {
      "cell_type": "code",
      "metadata": {
        "id": "LqMCNeQrCRl9",
        "colab_type": "code",
        "outputId": "76e78d8b-f589-4ac8-f7e7-fecae40c8d2f",
        "colab": {
          "base_uri": "https://localhost:8080/",
          "height": 34
        }
      },
      "source": [
        "type(st)"
      ],
      "execution_count": 0,
      "outputs": [
        {
          "output_type": "execute_result",
          "data": {
            "text/plain": [
              "str"
            ]
          },
          "metadata": {
            "tags": []
          },
          "execution_count": 40
        }
      ]
    },
    {
      "cell_type": "code",
      "metadata": {
        "id": "FaBRuWatC2_H",
        "colab_type": "code",
        "outputId": "8b4742c8-f0fb-41a8-eeb5-04552ef1ae71",
        "colab": {
          "base_uri": "https://localhost:8080/",
          "height": 34
        }
      },
      "source": [
        "a=5\n",
        "b=8\n",
        "print(a+b , b-a , a*b , a/b, b%a, b**a, b//a)"
      ],
      "execution_count": 0,
      "outputs": [
        {
          "output_type": "stream",
          "text": [
            "13 3 40 0.625 3 32768 1\n"
          ],
          "name": "stdout"
        }
      ]
    },
    {
      "cell_type": "code",
      "metadata": {
        "id": "GZKleF66Dm6H",
        "colab_type": "code",
        "outputId": "3e2fda28-13d4-4329-91db-ad72acb92374",
        "colab": {
          "base_uri": "https://localhost:8080/",
          "height": 34
        }
      },
      "source": [
        "name=True\n",
        "type(name)"
      ],
      "execution_count": 0,
      "outputs": [
        {
          "output_type": "execute_result",
          "data": {
            "text/plain": [
              "bool"
            ]
          },
          "metadata": {
            "tags": []
          },
          "execution_count": 42
        }
      ]
    },
    {
      "cell_type": "code",
      "metadata": {
        "id": "9VA24rPAENNG",
        "colab_type": "code",
        "outputId": "f43525b8-db0c-4130-9cc8-131bc8e6aede",
        "colab": {
          "base_uri": "https://localhost:8080/",
          "height": 34
        }
      },
      "source": [
        "flt=1.55\n",
        "type(flt)"
      ],
      "execution_count": 0,
      "outputs": [
        {
          "output_type": "execute_result",
          "data": {
            "text/plain": [
              "float"
            ]
          },
          "metadata": {
            "tags": []
          },
          "execution_count": 43
        }
      ]
    },
    {
      "cell_type": "markdown",
      "metadata": {
        "id": "KeHvRm5SEUbc",
        "colab_type": "text"
      },
      "source": [
        "# list"
      ]
    },
    {
      "cell_type": "markdown",
      "metadata": {
        "id": "nPMY2NibEzZL",
        "colab_type": "text"
      },
      "source": [
        "*  list are mutable type.\n",
        "*  list is an ordered sets of elements\n",
        "\n"
      ]
    },
    {
      "cell_type": "code",
      "metadata": {
        "id": "BvwZFf0vEgrA",
        "colab_type": "code",
        "colab": {}
      },
      "source": [
        "names=\"Anisha\"\n",
        "course=\"btech\"\n",
        "p_age=72.8\n",
        "age=18\n",
        "data_set=[names,age,course,p_age]"
      ],
      "execution_count": 0,
      "outputs": []
    },
    {
      "cell_type": "code",
      "metadata": {
        "id": "N4PetI0cHYZg",
        "colab_type": "code",
        "outputId": "c573ce7f-a2bd-46ba-b6e7-9f267aa5e00e",
        "colab": {
          "base_uri": "https://localhost:8080/",
          "height": 34
        }
      },
      "source": [
        "type(data_set)"
      ],
      "execution_count": 0,
      "outputs": [
        {
          "output_type": "execute_result",
          "data": {
            "text/plain": [
              "list"
            ]
          },
          "metadata": {
            "tags": []
          },
          "execution_count": 45
        }
      ]
    },
    {
      "cell_type": "code",
      "metadata": {
        "id": "Ozjfv1yUHckP",
        "colab_type": "code",
        "outputId": "be96182d-b594-4bf4-fc68-bdd0296b1476",
        "colab": {
          "base_uri": "https://localhost:8080/",
          "height": 34
        }
      },
      "source": [
        "print(data_set)"
      ],
      "execution_count": 0,
      "outputs": [
        {
          "output_type": "stream",
          "text": [
            "['Anisha', 18, 'btech', 72.8]\n"
          ],
          "name": "stdout"
        }
      ]
    },
    {
      "cell_type": "code",
      "metadata": {
        "id": "926HlRo4HkLB",
        "colab_type": "code",
        "outputId": "c3e87f88-cff6-4fd6-cdc8-01e612255adb",
        "colab": {
          "base_uri": "https://localhost:8080/",
          "height": 34
        }
      },
      "source": [
        "data_set[1]=21              #updating the list\n",
        "print(data_set)        "
      ],
      "execution_count": 0,
      "outputs": [
        {
          "output_type": "stream",
          "text": [
            "['Anisha', 21, 'btech', 72.8]\n"
          ],
          "name": "stdout"
        }
      ]
    },
    {
      "cell_type": "code",
      "metadata": {
        "id": "smxWXcrBH7Z4",
        "colab_type": "code",
        "outputId": "5a615eb0-643a-43b4-ff95-6d403eedb682",
        "colab": {
          "base_uri": "https://localhost:8080/"
        }
      },
      "source": [
        "print(data_set[1:3])        #slicing"
      ],
      "execution_count": 0,
      "outputs": [
        {
          "output_type": "stream",
          "text": [
            "[21, 'btech']\n"
          ],
          "name": "stdout"
        }
      ]
    },
    {
      "cell_type": "code",
      "metadata": {
        "id": "JJCXRhBCIvyH",
        "colab_type": "code",
        "outputId": "403e1142-fc5b-4687-efce-78b7d9012882",
        "colab": {
          "base_uri": "https://localhost:8080/"
        }
      },
      "source": [
        "print(data_set[::-1])\n",
        "#printing the list in reverse order\n",
        "print(len(data_set))"
      ],
      "execution_count": 0,
      "outputs": [
        {
          "output_type": "stream",
          "text": [
            "[72.8, 'btech', 21, 'Anisha']\n",
            "4\n"
          ],
          "name": "stdout"
        }
      ]
    },
    {
      "cell_type": "code",
      "metadata": {
        "id": "sItw7LbcNRUM",
        "colab_type": "code",
        "outputId": "59180966-4d9c-44b8-8fb4-3c7c93ce0509",
        "colab": {
          "base_uri": "https://localhost:8080/",
          "height": 34
        }
      },
      "source": [
        "print(data_set[-1])      #prints last element of the list"
      ],
      "execution_count": 0,
      "outputs": [
        {
          "output_type": "stream",
          "text": [
            "72.8\n"
          ],
          "name": "stdout"
        }
      ]
    },
    {
      "cell_type": "code",
      "metadata": {
        "id": "TsFqbDDQJL8F",
        "colab_type": "code",
        "colab": {}
      },
      "source": [
        "in_list=[[1,2,4],4,\"third element\",[1.2,6,9]]\n",
        "    #A list contaning another lists                                 "
      ],
      "execution_count": 0,
      "outputs": []
    },
    {
      "cell_type": "code",
      "metadata": {
        "id": "9psfLZy4KQzb",
        "colab_type": "code",
        "outputId": "a8b1ad91-d478-4430-9d03-e94fe5bbef0a",
        "colab": {
          "base_uri": "https://localhost:8080/",
          "height": 34
        }
      },
      "source": [
        "print(in_list)"
      ],
      "execution_count": 0,
      "outputs": [
        {
          "output_type": "stream",
          "text": [
            "[[1, 2, 4], 4, 'third element', [1.2, 6, 9]]\n"
          ],
          "name": "stdout"
        }
      ]
    },
    {
      "cell_type": "code",
      "metadata": {
        "id": "iFl24x_aKWnA",
        "colab_type": "code",
        "outputId": "489647fc-6330-4543-e5aa-7473a0966d47",
        "colab": {
          "base_uri": "https://localhost:8080/"
        }
      },
      "source": [
        "print(in_list[0][0:3])"
      ],
      "execution_count": 0,
      "outputs": [
        {
          "output_type": "stream",
          "text": [
            "[1, 2, 4]\n"
          ],
          "name": "stdout"
        }
      ]
    },
    {
      "cell_type": "code",
      "metadata": {
        "id": "ticJbUyJsVA0",
        "colab_type": "code",
        "outputId": "fbab1364-a1d7-48cd-90bb-916f8d214e49",
        "colab": {
          "base_uri": "https://localhost:8080/",
          "height": 34
        }
      },
      "source": [
        "new_data=[\"Pallavi\",79]\n",
        "print(new_data)\n"
      ],
      "execution_count": 0,
      "outputs": [
        {
          "output_type": "stream",
          "text": [
            "['Pallavi', 79]\n"
          ],
          "name": "stdout"
        }
      ]
    },
    {
      "cell_type": "code",
      "metadata": {
        "id": "BXix2qANtxO-",
        "colab_type": "code",
        "colab": {}
      },
      "source": [
        "_data=new_data+data_set\n",
        "print(_data)"
      ],
      "execution_count": 0,
      "outputs": []
    },
    {
      "cell_type": "code",
      "metadata": {
        "id": "R_v_Mhxpvmps",
        "colab_type": "code",
        "outputId": "6a58a606-e11a-42fa-caa8-b65b8553769a",
        "colab": {
          "base_uri": "https://localhost:8080/",
          "height": 34
        }
      },
      "source": [
        "number_list=range(5)\n",
        "a=list(filter(lambda x:x>1,number_list))\n",
        "print(a)"
      ],
      "execution_count": 0,
      "outputs": [
        {
          "output_type": "stream",
          "text": [
            "[2, 3, 4]\n"
          ],
          "name": "stdout"
        }
      ]
    },
    {
      "cell_type": "code",
      "metadata": {
        "id": "tiS5shRIIoKx",
        "colab_type": "code",
        "outputId": "b671ee9f-455b-41ed-80ce-a7b7bcdfba1e",
        "colab": {
          "base_uri": "https://localhost:8080/"
        }
      },
      "source": [
        "b=list(map(lambda x:x>1,number_list))\n",
        "print(b)"
      ],
      "execution_count": 0,
      "outputs": [
        {
          "output_type": "stream",
          "text": [
            "[False, False, True, True, True]\n"
          ],
          "name": "stdout"
        }
      ]
    },
    {
      "cell_type": "code",
      "metadata": {
        "id": "ercUmY1VK1_h",
        "colab_type": "code",
        "outputId": "401a8bb1-5c8b-4e70-f23e-5ac41708e584",
        "colab": {
          "base_uri": "https://localhost:8080/",
          "height": 34
        }
      },
      "source": [
        "tup1=tuple(data_set)   #converting list to tuples\n",
        "print(tup1)"
      ],
      "execution_count": 0,
      "outputs": [
        {
          "output_type": "stream",
          "text": [
            "('Anisha', 21, 'btech', 72.8)\n"
          ],
          "name": "stdout"
        }
      ]
    },
    {
      "cell_type": "markdown",
      "metadata": {
        "id": "TXhkSAWsLhAl",
        "colab_type": "text"
      },
      "source": [
        "# Tuples"
      ]
    },
    {
      "cell_type": "markdown",
      "metadata": {
        "id": "0yI0z9lZMRd4",
        "colab_type": "text"
      },
      "source": [
        "* Tuples are immutable datatype\n"
      ]
    },
    {
      "cell_type": "code",
      "metadata": {
        "id": "XDX0nEJvM9Ai",
        "colab_type": "code",
        "outputId": "d1fc36a8-26f9-4443-89fd-ef96c4a567d6",
        "colab": {
          "base_uri": "https://localhost:8080/",
          "height": 34
        }
      },
      "source": [
        "num=89.2\n",
        "_name_=\"student\"\n",
        "_age=34\n",
        "tup=(_name_,_age,num)\n",
        "print(tup)"
      ],
      "execution_count": 0,
      "outputs": [
        {
          "output_type": "stream",
          "text": [
            "('student', 34, 89.2)\n"
          ],
          "name": "stdout"
        }
      ]
    },
    {
      "cell_type": "code",
      "metadata": {
        "id": "LoJOp9pDOEDm",
        "colab_type": "code",
        "outputId": "e7deb45d-65c0-480b-ba2c-6da18f10da3e",
        "colab": {
          "base_uri": "https://localhost:8080/",
          "height": 212
        }
      },
      "source": [
        "tup[2]=32\n",
        "print(tup)\n",
        "''' tuples are immutable therefore when\n",
        "we are trying to update its value it is showing erorr'''"
      ],
      "execution_count": 0,
      "outputs": [
        {
          "output_type": "error",
          "ename": "TypeError",
          "evalue": "ignored",
          "traceback": [
            "\u001b[0;31m---------------------------------------------------------------------------\u001b[0m",
            "\u001b[0;31mTypeError\u001b[0m                                 Traceback (most recent call last)",
            "\u001b[0;32m<ipython-input-59-4fa66a85edcf>\u001b[0m in \u001b[0;36m<module>\u001b[0;34m()\u001b[0m\n\u001b[0;32m----> 1\u001b[0;31m \u001b[0mtup\u001b[0m\u001b[0;34m[\u001b[0m\u001b[0;36m2\u001b[0m\u001b[0;34m]\u001b[0m\u001b[0;34m=\u001b[0m\u001b[0;36m32\u001b[0m\u001b[0;34m\u001b[0m\u001b[0;34m\u001b[0m\u001b[0m\n\u001b[0m\u001b[1;32m      2\u001b[0m \u001b[0mprint\u001b[0m\u001b[0;34m(\u001b[0m\u001b[0mtup\u001b[0m\u001b[0;34m)\u001b[0m\u001b[0;34m\u001b[0m\u001b[0;34m\u001b[0m\u001b[0m\n\u001b[1;32m      3\u001b[0m ''' tuples are immutable therefore when\n\u001b[1;32m      4\u001b[0m we are trying to update its value it is showing erorr'''\n",
            "\u001b[0;31mTypeError\u001b[0m: 'tuple' object does not support item assignment"
          ]
        }
      ]
    },
    {
      "cell_type": "code",
      "metadata": {
        "id": "H1k3ihRuKeot",
        "colab_type": "code",
        "outputId": "bd8f2dc7-140e-4260-df3e-184158e138e4",
        "colab": {
          "base_uri": "https://localhost:8080/",
          "height": 34
        }
      },
      "source": [
        "lst_t=list(tup)  #converting tuples to list\n",
        "print(lst_t)"
      ],
      "execution_count": 0,
      "outputs": [
        {
          "output_type": "stream",
          "text": [
            "['student', 34, 89.2]\n"
          ],
          "name": "stdout"
        }
      ]
    },
    {
      "cell_type": "markdown",
      "metadata": {
        "id": "NjIbDSQbMFBU",
        "colab_type": "text"
      },
      "source": [
        "# sets and Dictionary"
      ]
    },
    {
      "cell_type": "markdown",
      "metadata": {
        "id": "yktd-w1yOHZo",
        "colab_type": "text"
      },
      "source": [
        "* Set is an mutable datatype\n",
        "* A Set is an unordered collection of iteams,every iteam is unique"
      ]
    },
    {
      "cell_type": "code",
      "metadata": {
        "id": "VUAo3DEzMQrI",
        "colab_type": "code",
        "outputId": "a93106fa-51e3-4e09-b2de-e47200857490",
        "colab": {
          "base_uri": "https://localhost:8080/",
          "height": 34
        }
      },
      "source": [
        "my_set=set(data_set)\n",
        "print(my_set)"
      ],
      "execution_count": 0,
      "outputs": [
        {
          "output_type": "stream",
          "text": [
            "{72.8, 'btech', 21, 'Anisha'}\n"
          ],
          "name": "stdout"
        }
      ]
    },
    {
      "cell_type": "code",
      "metadata": {
        "id": "NwVxq0tJPHrt",
        "colab_type": "code",
        "outputId": "0bf862ac-13d5-463a-fa84-ffc387bacd8f",
        "colab": {
          "base_uri": "https://localhost:8080/",
          "height": 34
        }
      },
      "source": [
        "_sets=set(new_data)\n",
        "print(_sets)"
      ],
      "execution_count": 0,
      "outputs": [
        {
          "output_type": "stream",
          "text": [
            "{'Pallavi', 79}\n"
          ],
          "name": "stdout"
        }
      ]
    },
    {
      "cell_type": "code",
      "metadata": {
        "id": "eO-8FWveP0M2",
        "colab_type": "code",
        "outputId": "53b2ee80-f369-4448-8d04-79efbc710423",
        "colab": {
          "base_uri": "https://localhost:8080/",
          "height": 34
        }
      },
      "source": [
        "print(my_set|_sets)   #Union of two sets"
      ],
      "execution_count": 0,
      "outputs": [
        {
          "output_type": "stream",
          "text": [
            "{21, 'Anisha', 'Pallavi', 72.8, 'btech', 79}\n"
          ],
          "name": "stdout"
        }
      ]
    },
    {
      "cell_type": "code",
      "metadata": {
        "id": "x13sIdgmQPq2",
        "colab_type": "code",
        "outputId": "622f2f2a-2512-4ea8-e582-46f29a013a50",
        "colab": {
          "base_uri": "https://localhost:8080/",
          "height": 50
        }
      },
      "source": [
        "print(my_set & _sets)   #Intersection of two sets\n",
        "'''if there is no comman elements in\n",
        "both the sets the output will be empty set()'''"
      ],
      "execution_count": 0,
      "outputs": [
        {
          "output_type": "stream",
          "text": [
            "set()\n"
          ],
          "name": "stdout"
        },
        {
          "output_type": "execute_result",
          "data": {
            "text/plain": [
              "'if there is no comman elements in\\nboth the sets the output will be empty set()'"
            ]
          },
          "metadata": {
            "tags": []
          },
          "execution_count": 15
        }
      ]
    },
    {
      "cell_type": "code",
      "metadata": {
        "id": "aWZt9cOKQ7rU",
        "colab_type": "code",
        "outputId": "3c56cea4-779d-4f93-9a9f-f479f58fedc5",
        "colab": {
          "base_uri": "https://localhost:8080/",
          "height": 34
        }
      },
      "source": [
        "print(my_set - _sets)"
      ],
      "execution_count": 0,
      "outputs": [
        {
          "output_type": "stream",
          "text": [
            "{72.8, 'btech', 'Anisha', 21}\n"
          ],
          "name": "stdout"
        }
      ]
    },
    {
      "cell_type": "code",
      "metadata": {
        "id": "NEycAVvcRk11",
        "colab_type": "code",
        "outputId": "e81fbf47-8f14-490f-c955-33e0d05d9d01",
        "colab": {
          "base_uri": "https://localhost:8080/",
          "height": 34
        }
      },
      "source": [
        "print(_sets.issubset(my_set))"
      ],
      "execution_count": 0,
      "outputs": [
        {
          "output_type": "stream",
          "text": [
            "False\n"
          ],
          "name": "stdout"
        }
      ]
    },
    {
      "cell_type": "code",
      "metadata": {
        "id": "BKR-SQ6bRvlY",
        "colab_type": "code",
        "outputId": "70135ccb-5473-4478-df61-8539b667e030",
        "colab": {
          "base_uri": "https://localhost:8080/"
        }
      },
      "source": [
        "print(my_set.issuperset(_sets))"
      ],
      "execution_count": 0,
      "outputs": [
        {
          "output_type": "stream",
          "text": [
            "False\n"
          ],
          "name": "stdout"
        }
      ]
    },
    {
      "cell_type": "markdown",
      "metadata": {
        "id": "bqX8SWfbSK9Z",
        "colab_type": "text"
      },
      "source": [
        "# Dictonary\n",
        "\n",
        "* it is mutable datatype\n",
        "* Dictonary contains key value pair.each key is separeted from its\n",
        "  value by colon,the iteams are seperated by comma"
      ]
    },
    {
      "cell_type": "code",
      "metadata": {
        "id": "hofbDj8BWBgI",
        "colab_type": "code",
        "outputId": "cd5a542d-59b6-4013-a0cf-29c700772f56",
        "colab": {
          "base_uri": "https://localhost:8080/",
          "height": 34
        }
      },
      "source": [
        "dict={1:\"python\",2:\"hadoop\",3:\"android\"}\n",
        "print(dict)\n"
      ],
      "execution_count": 0,
      "outputs": [
        {
          "output_type": "stream",
          "text": [
            "{1: 'python', 2: 'hadoop', 3: 'android'}\n"
          ],
          "name": "stdout"
        }
      ]
    },
    {
      "cell_type": "code",
      "metadata": {
        "id": "fUcrs2AdbPUO",
        "colab_type": "code",
        "outputId": "7100bebf-00b4-498d-f009-d493dc8e8f89",
        "colab": {
          "base_uri": "https://localhost:8080/",
          "height": 34
        }
      },
      "source": [
        "print(dict.items())"
      ],
      "execution_count": 0,
      "outputs": [
        {
          "output_type": "stream",
          "text": [
            "dict_items([(1, 'python'), (2, 'hadoop'), (3, 'android')])\n"
          ],
          "name": "stdout"
        }
      ]
    },
    {
      "cell_type": "code",
      "metadata": {
        "id": "14yGdI0abdNV",
        "colab_type": "code",
        "outputId": "2c0f3dc7-3549-4210-db17-cee715f2d264",
        "colab": {
          "base_uri": "https://localhost:8080/",
          "height": 34
        }
      },
      "source": [
        "print(dict.keys())"
      ],
      "execution_count": 0,
      "outputs": [
        {
          "output_type": "stream",
          "text": [
            "dict_keys([1, 2, 3])\n"
          ],
          "name": "stdout"
        }
      ]
    },
    {
      "cell_type": "code",
      "metadata": {
        "id": "hay2_LvLbu5e",
        "colab_type": "code",
        "outputId": "2168300a-6afb-49a7-f496-0abee69eeec9",
        "colab": {
          "base_uri": "https://localhost:8080/",
          "height": 34
        }
      },
      "source": [
        "print(dict.values())"
      ],
      "execution_count": 0,
      "outputs": [
        {
          "output_type": "stream",
          "text": [
            "dict_values(['python', 'hadoop', 'android'])\n"
          ],
          "name": "stdout"
        }
      ]
    },
    {
      "cell_type": "code",
      "metadata": {
        "id": "AwWNaqLcb1Da",
        "colab_type": "code",
        "outputId": "9cb70cf4-696e-43ba-9223-b14e8d9c5f3a",
        "colab": {
          "base_uri": "https://localhost:8080/",
          "height": 34
        }
      },
      "source": [
        "print(dict.setdefault(3))"
      ],
      "execution_count": 0,
      "outputs": [
        {
          "output_type": "stream",
          "text": [
            "android\n"
          ],
          "name": "stdout"
        }
      ]
    },
    {
      "cell_type": "code",
      "metadata": {
        "id": "27kfbqY_cLbd",
        "colab_type": "code",
        "outputId": "195eb1d1-7dc4-48ae-b2e9-c1dd8bf0125c",
        "colab": {
          "base_uri": "https://localhost:8080/",
          "height": 67
        }
      },
      "source": [
        "print(len(dict))\n",
        "print(type(dict))\n",
        "print(str(dict))"
      ],
      "execution_count": 0,
      "outputs": [
        {
          "output_type": "stream",
          "text": [
            "3\n",
            "<class 'dict'>\n",
            "{1: 'python', 2: 'hadoop', 3: 'android'}\n"
          ],
          "name": "stdout"
        }
      ]
    },
    {
      "cell_type": "code",
      "metadata": {
        "id": "ISuBSaSUcbKQ",
        "colab_type": "code",
        "outputId": "4a800198-7de8-4699-b9c9-76239b7ae908",
        "colab": {
          "base_uri": "https://localhost:8080/",
          "height": 34
        }
      },
      "source": [
        "dict[4]=\"ubunto\"          #updating dictonary\n",
        "print(dict)"
      ],
      "execution_count": 0,
      "outputs": [
        {
          "output_type": "stream",
          "text": [
            "{1: 'python', 2: 'hadoop', 3: 'android', 4: 'ubunto'}\n"
          ],
          "name": "stdout"
        }
      ]
    },
    {
      "cell_type": "code",
      "metadata": {
        "id": "4rhSvpzqc8gL",
        "colab_type": "code",
        "outputId": "4f471cc1-6600-47fe-cbdc-787e97dcfc43",
        "colab": {
          "base_uri": "https://localhost:8080/",
          "height": 34
        }
      },
      "source": [
        "dict.clear()   #deleating all the values from dictionary\n",
        "print(dict)"
      ],
      "execution_count": 0,
      "outputs": [
        {
          "output_type": "stream",
          "text": [
            "{}\n"
          ],
          "name": "stdout"
        }
      ]
    },
    {
      "cell_type": "markdown",
      "metadata": {
        "id": "vAl2yZGZef4p",
        "colab_type": "text"
      },
      "source": [
        "# If else and loop statement"
      ]
    },
    {
      "cell_type": "code",
      "metadata": {
        "id": "FzJbuPmte1tb",
        "colab_type": "code",
        "outputId": "ba065cb8-3da1-48b8-95f0-ec1ed6df78a3",
        "colab": {
          "base_uri": "https://localhost:8080/",
          "height": 50
        }
      },
      "source": [
        "_st=True\n",
        "if(_st==True):\n",
        "  print('inside if block')\n",
        "else:\n",
        "  print('inside else part')\n",
        "print('0utside all blocks')"
      ],
      "execution_count": 0,
      "outputs": [
        {
          "output_type": "stream",
          "text": [
            "inside if block\n",
            "0utside all blocks\n"
          ],
          "name": "stdout"
        }
      ]
    },
    {
      "cell_type": "code",
      "metadata": {
        "id": "9z66R4zzWbX4",
        "colab_type": "code",
        "outputId": "9660200e-2b0b-4906-c7f6-5f40ce73201c",
        "colab": {
          "base_uri": "https://localhost:8080/",
          "height": 101
        }
      },
      "source": [
        "for i in range(5):\n",
        "  print(i)"
      ],
      "execution_count": 0,
      "outputs": [
        {
          "output_type": "stream",
          "text": [
            "0\n",
            "1\n",
            "2\n",
            "3\n",
            "4\n"
          ],
          "name": "stdout"
        }
      ]
    },
    {
      "cell_type": "code",
      "metadata": {
        "id": "owPTRqbdW_yG",
        "colab_type": "code",
        "outputId": "ac014ed2-f52c-4edf-8f4f-5db9a85f0c23",
        "colab": {
          "base_uri": "https://localhost:8080/",
          "height": 118
        }
      },
      "source": [
        "k=0\n",
        "i=0\n",
        "while k < 6 :\n",
        "  i=i+k\n",
        "  print(k ,i  )\n",
        "  k=k+1"
      ],
      "execution_count": 0,
      "outputs": [
        {
          "output_type": "stream",
          "text": [
            "0 0\n",
            "1 1\n",
            "2 3\n",
            "3 6\n",
            "4 10\n",
            "5 15\n"
          ],
          "name": "stdout"
        }
      ]
    },
    {
      "cell_type": "markdown",
      "metadata": {
        "id": "zbxlzFHhX9FJ",
        "colab_type": "text"
      },
      "source": [
        "# Functios"
      ]
    },
    {
      "cell_type": "markdown",
      "metadata": {
        "id": "Rc1BdvyBaKTN",
        "colab_type": "text"
      },
      "source": [
        "A function is a block of organized,reusable code that is used to perform a single and relative action."
      ]
    },
    {
      "cell_type": "code",
      "metadata": {
        "id": "VMS_JuKXYGwy",
        "colab_type": "code",
        "outputId": "5e1111b7-c0e3-4d7c-f561-5dea93a818cd",
        "colab": {
          "base_uri": "https://localhost:8080/",
          "height": 50
        }
      },
      "source": [
        "def factorial():      #factorial of number(fuction with no arguments)\n",
        "  k=1\n",
        "  num=input('enter the no')\n",
        "  n=int(num)\n",
        "  if(n<0):\n",
        "    print('no. must be positive')\n",
        "  elif (n==0):\n",
        "    k=1\n",
        "  else:  \n",
        "    for i in range(1,n+1):\n",
        "      k=k*i\n",
        "  print(k)\n",
        "factorial()  "
      ],
      "execution_count": 0,
      "outputs": [
        {
          "output_type": "stream",
          "text": [
            "enter the no5\n",
            "120\n"
          ],
          "name": "stdout"
        }
      ]
    },
    {
      "cell_type": "code",
      "metadata": {
        "id": "NLt6bkn3ZiO0",
        "colab_type": "code",
        "outputId": "5bb827ce-fbdb-4400-fbad-88442feaee68",
        "colab": {
          "base_uri": "https://localhost:8080/",
          "height": 50
        }
      },
      "source": [
        "def sq_num(n):       #sum of natural no(function with one arguments)\n",
        "  sum=0\n",
        "  if(n<0):\n",
        "    print('no. must be positive')\n",
        "  else:  \n",
        "    for i in range(n+1):\n",
        "      sum+=i\n",
        "    print(sum) \n",
        "num=input('enter the no.')\n",
        "n=int(num)\n",
        "sq_num(n)"
      ],
      "execution_count": 0,
      "outputs": [
        {
          "output_type": "stream",
          "text": [
            "enter the no.5\n",
            "15\n"
          ],
          "name": "stdout"
        }
      ]
    },
    {
      "cell_type": "code",
      "metadata": {
        "id": "Ehm4NkAIdwfJ",
        "colab_type": "code",
        "outputId": "0894849b-79e3-40af-9cc6-95b2a4935ee2",
        "colab": {
          "base_uri": "https://localhost:8080/",
          "height": 67
        }
      },
      "source": [
        "#function with n arguments\n",
        "def sum(a, *b):\n",
        "  s=0\n",
        "  i=0\n",
        "  for i in b:\n",
        "    s+=i\n",
        "  print(a+s)\n",
        "sum(2 ,3)              #the no of arguments varies in all calling function\n",
        "sum(2,2,2)\n",
        "sum(5,7,9,12)\n"
      ],
      "execution_count": 0,
      "outputs": [
        {
          "output_type": "stream",
          "text": [
            "5\n",
            "6\n",
            "33\n"
          ],
          "name": "stdout"
        }
      ]
    }
  ]
}